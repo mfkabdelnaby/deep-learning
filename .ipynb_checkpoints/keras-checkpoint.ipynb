{
 "cells": [
  {
   "cell_type": "markdown",
   "metadata": {
    "toc": true
   },
   "source": [
    "<h1>Table of Contents<span class=\"tocSkip\"></span></h1>\n",
    "<div class=\"toc\"><ul class=\"toc-item\"><li><span><a href=\"#Deep-Learning\" data-toc-modified-id=\"Deep-Learning-1\">Deep Learning</a></span><ul class=\"toc-item\"><li><ul class=\"toc-item\"><li><span><a href=\"#Neural-Networks\" data-toc-modified-id=\"Neural-Networks-1.0.1\">Neural Networks</a></span></li><li><span><a href=\"#Forward-Propagation\" data-toc-modified-id=\"Forward-Propagation-1.0.2\">Forward Propagation</a></span></li></ul></li><li><span><a href=\"#Gradient-Descent\" data-toc-modified-id=\"Gradient-Descent-1.1\">Gradient Descent</a></span></li><li><span><a href=\"#Backpropagation\" data-toc-modified-id=\"Backpropagation-1.2\">Backpropagation</a></span></li><li><span><a href=\"#Setting-up-your-Keras-and-TensorFlow-Libararies-in-Jupyter-Notebook/Lab\" data-toc-modified-id=\"Setting-up-your-Keras-and-TensorFlow-Libararies-in-Jupyter-Notebook/Lab-1.3\">Setting-up your Keras and TensorFlow Libararies in Jupyter Notebook/Lab</a></span></li><li><span><a href=\"#Creating-a-Keras-Model\" data-toc-modified-id=\"Creating-a-Keras-Model-1.4\">Creating a Keras Model</a></span><ul class=\"toc-item\"><li><span><a href=\"#Model-Specification\" data-toc-modified-id=\"Model-Specification-1.4.1\">Model Specification</a></span></li><li><span><a href=\"#Compiling-and-fitting-a-model\" data-toc-modified-id=\"Compiling-and-fitting-a-model-1.4.2\">Compiling and fitting a model</a></span></li></ul></li><li><span><a href=\"#Classifiction-Models\" data-toc-modified-id=\"Classifiction-Models-1.5\">Classifiction Models</a></span><ul class=\"toc-item\"><li><span><a href=\"#Using-Your-Model\" data-toc-modified-id=\"Using-Your-Model-1.5.1\">Using Your Model</a></span></li></ul></li><li><span><a href=\"#Model-Optimization\" data-toc-modified-id=\"Model-Optimization-1.6\">Model Optimization</a></span></li><li><span><a href=\"#Model-Validation\" data-toc-modified-id=\"Model-Validation-1.7\">Model Validation</a></span><ul class=\"toc-item\"><li><span><a href=\"#Model-Summary\" data-toc-modified-id=\"Model-Summary-1.7.1\">Model Summary</a></span></li><li><span><a href=\"#Plot-Model-Score-vs-Epochs\" data-toc-modified-id=\"Plot-Model-Score-vs-Epochs-1.7.2\">Plot Model Score vs Epochs</a></span></li></ul></li><li><span><a href=\"#Model-Capacity\" data-toc-modified-id=\"Model-Capacity-1.8\">Model Capacity</a></span></li></ul></li></ul></div>"
   ]
  },
  {
   "cell_type": "markdown",
   "metadata": {},
   "source": [
    "# Deep Learning\n",
    "\n",
    "\n",
    "### Neural Networks\n",
    "Deep learning uses especially powerful **neural networks**\n",
    "\n",
    "NN consists of 3 layers:\n",
    "1. *Input Layer* which contain the features\n",
    "2. *Output Layer* which contains the predictive variable (target)\n",
    "3. *Hidden Layer* which models interaction between features (input) and reflect it to the output layer. The more nodes it contains, the more interactions it can capture, and the more complex the computation is.\n",
    "\n",
    "<img src= \"diagram.png\" height=\"300\" width=\"300\">\n",
    "\n",
    "### Forward Propagation\n",
    "\n",
    "<img src= \"feed-forward.png\" height=\"400\" width=\"400\">\n",
    "\n",
    "As you can see from the diagram above. The outputs of the input layer are multiplied by some weights that we need to predict. Adding the products of the weights with the outputs of the input layer determines the value in the hidden layer. The same procedure occurs with the output layer. Moving from the input to hidden to output layers is called **Forward Propagation**.\n",
    "\n",
    "In order to capture non-linear behaviors between the features themselves, and the feature with the target variable, an **activation function** is used in the hidden layer. According to the function, the input values are transformed into an output that will go through the output layer. One example of activation function is **Rectified Linear Activation Function (ReLU)** which is defined as follows:\n",
    "\n",
    "$$ RELU(x)=   \\left\\{\n",
    "\\begin{array}{ll}\n",
    "      0 \\space & x<0 \\\\\n",
    "      x & a>=0\\\\\n",
    "\\end{array} \n",
    "\\right.  $$\n",
    "\n",
    "In python you can define the function as follows:\n",
    "\n",
    "```python\n",
    "def relu(input):\n",
    "    '''Define your relu activation function here'''\n",
    "\n",
    "    output = max(input, 0)\n",
    "    \n",
    "    return(output)\n",
    "```\n",
    "\n",
    "In order to have better predictions, the number of hidden layers is increased. The more the layers the better the model, the more complex it is. Deep networks internally build represenatations of patterns in the data. It partially replaces the need for feature engineering. More deeper layers include more sophesticated representations of the data"
   ]
  },
  {
   "cell_type": "markdown",
   "metadata": {},
   "source": [
    "## Gradient Descent\n",
    "The target to is minimize the loss function (commonly RMSE). This target can be achieved by moving along the loss function for each set of weight values. The slope of the tangent line to the function decide the direction to move along the curve. Move with steps along the loss function curve and measure the slope each time until the slope is minimized. The weights corresponding to the minimum slope are the ones you choose to optimize the model. In addition, the movements steps must be controlled because moving too slow leads to slow simulations and higher computations, and moving too fast might lead us astray. Therefore, we use the **learning rate** and multiply it by the current slope. Then, subtract the result from the current weights to get the new weights."
   ]
  },
  {
   "cell_type": "markdown",
   "metadata": {},
   "source": [
    "## Backpropagation\n",
    "\n",
    "It propagates from prediction error of the output layer through the hidden layers and back to the input layer. This allows gradient descent to update all weights in neural network (by getting gradient/slope for all weights). You need to use forward propagation before updating the weights using backward propagation. Each time you generate predictions using forward propagation, you update the weights using backward propagation.\n",
    "\n",
    "The slope for wieght is product of:\n",
    "1. Node value feeding into that weight\n",
    "2. Slope of activation function for the node being fed into\n",
    "3. Slope of loss function w.r.t output node\n",
    "\n",
    "It is common to calculate slopes on only a subset of the data ('batch'). Then, use a different batch of data to calculate next update until you use all data. This is called **Stochastic Gradient Descent**\n",
    "\n",
    "-------------"
   ]
  },
  {
   "cell_type": "code",
   "execution_count": 2,
   "metadata": {},
   "outputs": [],
   "source": [
    "# to ignore some warnings\n",
    "import warnings\n",
    "warnings.filterwarnings(\"ignore\", category=FutureWarning)"
   ]
  },
  {
   "cell_type": "code",
   "execution_count": 3,
   "metadata": {},
   "outputs": [],
   "source": [
    "# import libraries needed\n",
    "\n",
    "import pandas as pd\n",
    "import numpy as np\n",
    "import matplotlib.pyplot as plt\n",
    "import seaborn as sns\n",
    "\n",
    "#set plotting style to 'ggplot'\n",
    "plt.style.use('ggplot')"
   ]
  },
  {
   "cell_type": "markdown",
   "metadata": {},
   "source": [
    "## Setting-up your Keras and TensorFlow Libararies in Jupyter Notebook/Lab\n",
    "\n",
    "1. Create a environment `tf`\n",
    "> conda create -n tf tensorflow\n",
    "\n",
    " > conda activate tf\n",
    " \n",
    "2. In this invironment only tesnorflow is install so you need to install all other libraries such as:\n",
    "pandas, numpy, scikit-learn, matplotlib, seaborn, keras, ...\n",
    "> pip install ---\n",
    "\n",
    "3. Re-install jupyter notebook \n",
    "> pip install jupyter notebook\n",
    "\n",
    "4. Re-install jupyter lab (if you are using it)\n",
    "> python -m pip install jupyterlab\n"
   ]
  },
  {
   "cell_type": "markdown",
   "metadata": {},
   "source": [
    "## Creating a Keras Model\n",
    "\n",
    "1. Specify model Architecture\n",
    "2. Compile the model\n",
    "3. Fit the model\n",
    "4. Make prediction\n",
    "\n",
    "### Model Specification\n",
    "\n",
    "* **`Sequential()`** each layers have nodes connected only the next layer\n",
    "* **`Dense()`** ALL nodes in previous layers are connected to ALL nodes in current layer\n",
    "\n",
    "In the next example you'll predict workers wages based on characteristics like their industry, education and level of experience."
   ]
  },
  {
   "cell_type": "code",
   "execution_count": 4,
   "metadata": {},
   "outputs": [
    {
     "data": {
      "text/html": [
       "<div>\n",
       "<style scoped>\n",
       "    .dataframe tbody tr th:only-of-type {\n",
       "        vertical-align: middle;\n",
       "    }\n",
       "\n",
       "    .dataframe tbody tr th {\n",
       "        vertical-align: top;\n",
       "    }\n",
       "\n",
       "    .dataframe thead th {\n",
       "        text-align: right;\n",
       "    }\n",
       "</style>\n",
       "<table border=\"1\" class=\"dataframe\">\n",
       "  <thead>\n",
       "    <tr style=\"text-align: right;\">\n",
       "      <th></th>\n",
       "      <th>wage_per_hour</th>\n",
       "      <th>union</th>\n",
       "      <th>education_yrs</th>\n",
       "      <th>experience_yrs</th>\n",
       "      <th>age</th>\n",
       "      <th>female</th>\n",
       "      <th>marr</th>\n",
       "      <th>south</th>\n",
       "      <th>manufacturing</th>\n",
       "      <th>construction</th>\n",
       "    </tr>\n",
       "  </thead>\n",
       "  <tbody>\n",
       "    <tr>\n",
       "      <th>0</th>\n",
       "      <td>5.10</td>\n",
       "      <td>0</td>\n",
       "      <td>8</td>\n",
       "      <td>21</td>\n",
       "      <td>35</td>\n",
       "      <td>1</td>\n",
       "      <td>1</td>\n",
       "      <td>0</td>\n",
       "      <td>1</td>\n",
       "      <td>0</td>\n",
       "    </tr>\n",
       "    <tr>\n",
       "      <th>1</th>\n",
       "      <td>4.95</td>\n",
       "      <td>0</td>\n",
       "      <td>9</td>\n",
       "      <td>42</td>\n",
       "      <td>57</td>\n",
       "      <td>1</td>\n",
       "      <td>1</td>\n",
       "      <td>0</td>\n",
       "      <td>1</td>\n",
       "      <td>0</td>\n",
       "    </tr>\n",
       "    <tr>\n",
       "      <th>2</th>\n",
       "      <td>6.67</td>\n",
       "      <td>0</td>\n",
       "      <td>12</td>\n",
       "      <td>1</td>\n",
       "      <td>19</td>\n",
       "      <td>0</td>\n",
       "      <td>0</td>\n",
       "      <td>0</td>\n",
       "      <td>1</td>\n",
       "      <td>0</td>\n",
       "    </tr>\n",
       "    <tr>\n",
       "      <th>3</th>\n",
       "      <td>4.00</td>\n",
       "      <td>0</td>\n",
       "      <td>12</td>\n",
       "      <td>4</td>\n",
       "      <td>22</td>\n",
       "      <td>0</td>\n",
       "      <td>0</td>\n",
       "      <td>0</td>\n",
       "      <td>0</td>\n",
       "      <td>0</td>\n",
       "    </tr>\n",
       "    <tr>\n",
       "      <th>4</th>\n",
       "      <td>7.50</td>\n",
       "      <td>0</td>\n",
       "      <td>12</td>\n",
       "      <td>17</td>\n",
       "      <td>35</td>\n",
       "      <td>0</td>\n",
       "      <td>1</td>\n",
       "      <td>0</td>\n",
       "      <td>0</td>\n",
       "      <td>0</td>\n",
       "    </tr>\n",
       "  </tbody>\n",
       "</table>\n",
       "</div>"
      ],
      "text/plain": [
       "   wage_per_hour  union  education_yrs  experience_yrs  age  female  marr  \\\n",
       "0           5.10      0              8              21   35       1     1   \n",
       "1           4.95      0              9              42   57       1     1   \n",
       "2           6.67      0             12               1   19       0     0   \n",
       "3           4.00      0             12               4   22       0     0   \n",
       "4           7.50      0             12              17   35       0     1   \n",
       "\n",
       "   south  manufacturing  construction  \n",
       "0      0              1             0  \n",
       "1      0              1             0  \n",
       "2      0              1             0  \n",
       "3      0              0             0  \n",
       "4      0              0             0  "
      ]
     },
     "execution_count": 4,
     "metadata": {},
     "output_type": "execute_result"
    }
   ],
   "source": [
    "df = pd.read_csv('datasets/wages.csv')\n",
    "df.head()"
   ]
  },
  {
   "cell_type": "code",
   "execution_count": 5,
   "metadata": {},
   "outputs": [],
   "source": [
    "predictors = df.drop('wage_per_hour',axis=1).values\n",
    "target = df['wage_per_hour'].values"
   ]
  },
  {
   "cell_type": "code",
   "execution_count": 6,
   "metadata": {},
   "outputs": [
    {
     "name": "stderr",
     "output_type": "stream",
     "text": [
      "Using TensorFlow backend.\n"
     ]
    },
    {
     "name": "stdout",
     "output_type": "stream",
     "text": [
      "WARNING:tensorflow:From c:\\users\\user\\anaconda3\\envs\\tf\\lib\\site-packages\\tensorflow\\python\\framework\\op_def_library.py:263: colocate_with (from tensorflow.python.framework.ops) is deprecated and will be removed in a future version.\n",
      "Instructions for updating:\n",
      "Colocations handled automatically by placer.\n"
     ]
    }
   ],
   "source": [
    "# Import necessary modules\n",
    "import keras\n",
    "from keras.layers import Dense\n",
    "from keras.models import Sequential\n",
    "\n",
    "# Save the number of columns in predictors: n_cols\n",
    "n_cols = predictors.shape[1]\n",
    "\n",
    "# Set up the model: model\n",
    "model = Sequential()\n",
    "\n",
    "# Add the first layer (input layer)\n",
    "model.add(Dense(50, activation='relu', input_shape=(n_cols,)))\n",
    "\n",
    "# Add the second layer\n",
    "model.add(Dense(32, activation='relu'))\n",
    "\n",
    "# Add the output layer\n",
    "model.add(Dense(1))"
   ]
  },
  {
   "cell_type": "markdown",
   "metadata": {},
   "source": [
    "### Compiling and fitting a model\n",
    "\n",
    "* Specify the optimizer\n",
    "    * Control the learning rate\n",
    "    * \"Adam\" is usually a good choice\n",
    "    \n",
    "    \n",
    "* Specify the loss function\n",
    "    * \"mean_squared_error\" is a common choice for regression\n",
    "    \n",
    "\n",
    "* Fitting the model\n",
    "    * Apply backpropagation and gradient descent with your data to update weights\n"
   ]
  },
  {
   "cell_type": "code",
   "execution_count": 7,
   "metadata": {},
   "outputs": [
    {
     "name": "stdout",
     "output_type": "stream",
     "text": [
      "WARNING:tensorflow:From c:\\users\\user\\anaconda3\\envs\\tf\\lib\\site-packages\\tensorflow\\python\\ops\\math_ops.py:3066: to_int32 (from tensorflow.python.ops.math_ops) is deprecated and will be removed in a future version.\n",
      "Instructions for updating:\n",
      "Use tf.cast instead.\n",
      "Epoch 1/1\n",
      "534/534 [==============================] - 0s 637us/step - loss: 31.2126\n"
     ]
    },
    {
     "data": {
      "text/plain": [
       "<keras.callbacks.History at 0x1d60597a438>"
      ]
     },
     "execution_count": 7,
     "metadata": {},
     "output_type": "execute_result"
    }
   ],
   "source": [
    "# Compile the model\n",
    "model.compile(optimizer='adam', loss='mean_squared_error')\n",
    "\n",
    "# Fit the model\n",
    "model.fit(predictors,target)"
   ]
  },
  {
   "cell_type": "markdown",
   "metadata": {},
   "source": [
    "## Classifiction Models\n",
    "\n",
    "* Loss function is Log Loss: \"categorical_crossentropy\"\n",
    "* Add metrics = ['accuracy'] to print accuracy at each epoch which makes it easier for model debugging\n",
    "* Output Layer does not consist of one node here. It consists of separate node for each posible outcome.\n",
    "* Change activation function of the output to 'softmax' which ensures predictions sum to 1 so that they can interpreted as probabilities\n",
    "\n",
    "\n",
    "\n",
    "In the next example we will study the titanic dataset and predict weather a passenger survives or not\n",
    "\n",
    "First we will convert the target variable to categories and perform one-hot incoding on it by implementing:\n",
    "```python\n",
    "from keras.utils import to_categorical\n",
    "```"
   ]
  },
  {
   "cell_type": "code",
   "execution_count": 8,
   "metadata": {},
   "outputs": [
    {
     "data": {
      "text/html": [
       "<div>\n",
       "<style scoped>\n",
       "    .dataframe tbody tr th:only-of-type {\n",
       "        vertical-align: middle;\n",
       "    }\n",
       "\n",
       "    .dataframe tbody tr th {\n",
       "        vertical-align: top;\n",
       "    }\n",
       "\n",
       "    .dataframe thead th {\n",
       "        text-align: right;\n",
       "    }\n",
       "</style>\n",
       "<table border=\"1\" class=\"dataframe\">\n",
       "  <thead>\n",
       "    <tr style=\"text-align: right;\">\n",
       "      <th></th>\n",
       "      <th>survived</th>\n",
       "      <th>pclass</th>\n",
       "      <th>age</th>\n",
       "      <th>sibsp</th>\n",
       "      <th>parch</th>\n",
       "      <th>fare</th>\n",
       "      <th>male</th>\n",
       "      <th>age_was_missing</th>\n",
       "      <th>embarked_from_cherbourg</th>\n",
       "      <th>embarked_from_queenstown</th>\n",
       "      <th>embarked_from_southampton</th>\n",
       "    </tr>\n",
       "  </thead>\n",
       "  <tbody>\n",
       "    <tr>\n",
       "      <th>0</th>\n",
       "      <td>0</td>\n",
       "      <td>3</td>\n",
       "      <td>22.0</td>\n",
       "      <td>1</td>\n",
       "      <td>0</td>\n",
       "      <td>7.2500</td>\n",
       "      <td>1</td>\n",
       "      <td>False</td>\n",
       "      <td>0</td>\n",
       "      <td>0</td>\n",
       "      <td>1</td>\n",
       "    </tr>\n",
       "    <tr>\n",
       "      <th>1</th>\n",
       "      <td>1</td>\n",
       "      <td>1</td>\n",
       "      <td>38.0</td>\n",
       "      <td>1</td>\n",
       "      <td>0</td>\n",
       "      <td>71.2833</td>\n",
       "      <td>0</td>\n",
       "      <td>False</td>\n",
       "      <td>1</td>\n",
       "      <td>0</td>\n",
       "      <td>0</td>\n",
       "    </tr>\n",
       "    <tr>\n",
       "      <th>2</th>\n",
       "      <td>1</td>\n",
       "      <td>3</td>\n",
       "      <td>26.0</td>\n",
       "      <td>0</td>\n",
       "      <td>0</td>\n",
       "      <td>7.9250</td>\n",
       "      <td>0</td>\n",
       "      <td>False</td>\n",
       "      <td>0</td>\n",
       "      <td>0</td>\n",
       "      <td>1</td>\n",
       "    </tr>\n",
       "    <tr>\n",
       "      <th>3</th>\n",
       "      <td>1</td>\n",
       "      <td>1</td>\n",
       "      <td>35.0</td>\n",
       "      <td>1</td>\n",
       "      <td>0</td>\n",
       "      <td>53.1000</td>\n",
       "      <td>0</td>\n",
       "      <td>False</td>\n",
       "      <td>0</td>\n",
       "      <td>0</td>\n",
       "      <td>1</td>\n",
       "    </tr>\n",
       "    <tr>\n",
       "      <th>4</th>\n",
       "      <td>0</td>\n",
       "      <td>3</td>\n",
       "      <td>35.0</td>\n",
       "      <td>0</td>\n",
       "      <td>0</td>\n",
       "      <td>8.0500</td>\n",
       "      <td>1</td>\n",
       "      <td>False</td>\n",
       "      <td>0</td>\n",
       "      <td>0</td>\n",
       "      <td>1</td>\n",
       "    </tr>\n",
       "  </tbody>\n",
       "</table>\n",
       "</div>"
      ],
      "text/plain": [
       "   survived  pclass   age  sibsp  parch     fare  male  age_was_missing  \\\n",
       "0         0       3  22.0      1      0   7.2500     1            False   \n",
       "1         1       1  38.0      1      0  71.2833     0            False   \n",
       "2         1       3  26.0      0      0   7.9250     0            False   \n",
       "3         1       1  35.0      1      0  53.1000     0            False   \n",
       "4         0       3  35.0      0      0   8.0500     1            False   \n",
       "\n",
       "   embarked_from_cherbourg  embarked_from_queenstown  \\\n",
       "0                        0                         0   \n",
       "1                        1                         0   \n",
       "2                        0                         0   \n",
       "3                        0                         0   \n",
       "4                        0                         0   \n",
       "\n",
       "   embarked_from_southampton  \n",
       "0                          1  \n",
       "1                          0  \n",
       "2                          1  \n",
       "3                          1  \n",
       "4                          1  "
      ]
     },
     "execution_count": 8,
     "metadata": {},
     "output_type": "execute_result"
    }
   ],
   "source": [
    "df = pd.read_csv('datasets/titanic.csv')\n",
    "df.head()"
   ]
  },
  {
   "cell_type": "code",
   "execution_count": 9,
   "metadata": {},
   "outputs": [
    {
     "data": {
      "text/html": [
       "<div>\n",
       "<style scoped>\n",
       "    .dataframe tbody tr th:only-of-type {\n",
       "        vertical-align: middle;\n",
       "    }\n",
       "\n",
       "    .dataframe tbody tr th {\n",
       "        vertical-align: top;\n",
       "    }\n",
       "\n",
       "    .dataframe thead th {\n",
       "        text-align: right;\n",
       "    }\n",
       "</style>\n",
       "<table border=\"1\" class=\"dataframe\">\n",
       "  <thead>\n",
       "    <tr style=\"text-align: right;\">\n",
       "      <th></th>\n",
       "      <th>survived</th>\n",
       "      <th>pclass</th>\n",
       "      <th>age</th>\n",
       "      <th>sibsp</th>\n",
       "      <th>parch</th>\n",
       "      <th>fare</th>\n",
       "      <th>male</th>\n",
       "      <th>embarked_from_cherbourg</th>\n",
       "      <th>embarked_from_queenstown</th>\n",
       "      <th>embarked_from_southampton</th>\n",
       "    </tr>\n",
       "  </thead>\n",
       "  <tbody>\n",
       "    <tr>\n",
       "      <th>count</th>\n",
       "      <td>891.000000</td>\n",
       "      <td>891.000000</td>\n",
       "      <td>891.000000</td>\n",
       "      <td>891.000000</td>\n",
       "      <td>891.000000</td>\n",
       "      <td>891.000000</td>\n",
       "      <td>891.000000</td>\n",
       "      <td>891.000000</td>\n",
       "      <td>891.000000</td>\n",
       "      <td>891.000000</td>\n",
       "    </tr>\n",
       "    <tr>\n",
       "      <th>mean</th>\n",
       "      <td>0.383838</td>\n",
       "      <td>2.308642</td>\n",
       "      <td>29.699118</td>\n",
       "      <td>0.523008</td>\n",
       "      <td>0.381594</td>\n",
       "      <td>32.204208</td>\n",
       "      <td>0.647587</td>\n",
       "      <td>0.188552</td>\n",
       "      <td>0.086420</td>\n",
       "      <td>0.722783</td>\n",
       "    </tr>\n",
       "    <tr>\n",
       "      <th>std</th>\n",
       "      <td>0.486592</td>\n",
       "      <td>0.836071</td>\n",
       "      <td>13.002015</td>\n",
       "      <td>1.102743</td>\n",
       "      <td>0.806057</td>\n",
       "      <td>49.693429</td>\n",
       "      <td>0.477990</td>\n",
       "      <td>0.391372</td>\n",
       "      <td>0.281141</td>\n",
       "      <td>0.447876</td>\n",
       "    </tr>\n",
       "    <tr>\n",
       "      <th>min</th>\n",
       "      <td>0.000000</td>\n",
       "      <td>1.000000</td>\n",
       "      <td>0.420000</td>\n",
       "      <td>0.000000</td>\n",
       "      <td>0.000000</td>\n",
       "      <td>0.000000</td>\n",
       "      <td>0.000000</td>\n",
       "      <td>0.000000</td>\n",
       "      <td>0.000000</td>\n",
       "      <td>0.000000</td>\n",
       "    </tr>\n",
       "    <tr>\n",
       "      <th>25%</th>\n",
       "      <td>0.000000</td>\n",
       "      <td>2.000000</td>\n",
       "      <td>22.000000</td>\n",
       "      <td>0.000000</td>\n",
       "      <td>0.000000</td>\n",
       "      <td>7.910400</td>\n",
       "      <td>0.000000</td>\n",
       "      <td>0.000000</td>\n",
       "      <td>0.000000</td>\n",
       "      <td>0.000000</td>\n",
       "    </tr>\n",
       "    <tr>\n",
       "      <th>50%</th>\n",
       "      <td>0.000000</td>\n",
       "      <td>3.000000</td>\n",
       "      <td>29.699118</td>\n",
       "      <td>0.000000</td>\n",
       "      <td>0.000000</td>\n",
       "      <td>14.454200</td>\n",
       "      <td>1.000000</td>\n",
       "      <td>0.000000</td>\n",
       "      <td>0.000000</td>\n",
       "      <td>1.000000</td>\n",
       "    </tr>\n",
       "    <tr>\n",
       "      <th>75%</th>\n",
       "      <td>1.000000</td>\n",
       "      <td>3.000000</td>\n",
       "      <td>35.000000</td>\n",
       "      <td>1.000000</td>\n",
       "      <td>0.000000</td>\n",
       "      <td>31.000000</td>\n",
       "      <td>1.000000</td>\n",
       "      <td>0.000000</td>\n",
       "      <td>0.000000</td>\n",
       "      <td>1.000000</td>\n",
       "    </tr>\n",
       "    <tr>\n",
       "      <th>max</th>\n",
       "      <td>1.000000</td>\n",
       "      <td>3.000000</td>\n",
       "      <td>80.000000</td>\n",
       "      <td>8.000000</td>\n",
       "      <td>6.000000</td>\n",
       "      <td>512.329200</td>\n",
       "      <td>1.000000</td>\n",
       "      <td>1.000000</td>\n",
       "      <td>1.000000</td>\n",
       "      <td>1.000000</td>\n",
       "    </tr>\n",
       "  </tbody>\n",
       "</table>\n",
       "</div>"
      ],
      "text/plain": [
       "         survived      pclass         age       sibsp       parch        fare  \\\n",
       "count  891.000000  891.000000  891.000000  891.000000  891.000000  891.000000   \n",
       "mean     0.383838    2.308642   29.699118    0.523008    0.381594   32.204208   \n",
       "std      0.486592    0.836071   13.002015    1.102743    0.806057   49.693429   \n",
       "min      0.000000    1.000000    0.420000    0.000000    0.000000    0.000000   \n",
       "25%      0.000000    2.000000   22.000000    0.000000    0.000000    7.910400   \n",
       "50%      0.000000    3.000000   29.699118    0.000000    0.000000   14.454200   \n",
       "75%      1.000000    3.000000   35.000000    1.000000    0.000000   31.000000   \n",
       "max      1.000000    3.000000   80.000000    8.000000    6.000000  512.329200   \n",
       "\n",
       "             male  embarked_from_cherbourg  embarked_from_queenstown  \\\n",
       "count  891.000000               891.000000                891.000000   \n",
       "mean     0.647587                 0.188552                  0.086420   \n",
       "std      0.477990                 0.391372                  0.281141   \n",
       "min      0.000000                 0.000000                  0.000000   \n",
       "25%      0.000000                 0.000000                  0.000000   \n",
       "50%      1.000000                 0.000000                  0.000000   \n",
       "75%      1.000000                 0.000000                  0.000000   \n",
       "max      1.000000                 1.000000                  1.000000   \n",
       "\n",
       "       embarked_from_southampton  \n",
       "count                 891.000000  \n",
       "mean                    0.722783  \n",
       "std                     0.447876  \n",
       "min                     0.000000  \n",
       "25%                     0.000000  \n",
       "50%                     1.000000  \n",
       "75%                     1.000000  \n",
       "max                     1.000000  "
      ]
     },
     "execution_count": 9,
     "metadata": {},
     "output_type": "execute_result"
    }
   ],
   "source": [
    "# EDA\n",
    "df.describe()"
   ]
  },
  {
   "cell_type": "code",
   "execution_count": 10,
   "metadata": {},
   "outputs": [
    {
     "name": "stdout",
     "output_type": "stream",
     "text": [
      "Epoch 1/1\n",
      "891/891 [==============================] - 0s 319us/step - loss: 2.1719 - acc: 0.5791\n"
     ]
    },
    {
     "data": {
      "text/plain": [
       "<keras.callbacks.History at 0x1d609e2d7b8>"
      ]
     },
     "execution_count": 10,
     "metadata": {},
     "output_type": "execute_result"
    }
   ],
   "source": [
    "# Import necessary modules\n",
    "import keras\n",
    "from keras.layers import Dense\n",
    "from keras.models import Sequential\n",
    "from keras.utils import to_categorical\n",
    "\n",
    "# Define the predictors\n",
    "predictors = df.drop(['survived'],axis=1).as_matrix()\n",
    "\n",
    "# Convert the target to categorical: target\n",
    "target = to_categorical(df.survived)\n",
    "\n",
    "# Save number of columns\n",
    "n_cols = predictors.shape[1]\n",
    "\n",
    "# Set up the model\n",
    "model = Sequential()\n",
    "\n",
    "# Add the first layer\n",
    "model.add(Dense(32,activation='relu',input_shape=(n_cols,)))\n",
    "\n",
    "# Add the output layer\n",
    "model.add(Dense(2,activation='softmax'))\n",
    "\n",
    "# Compile the model\n",
    "model.compile(optimizer='sgd',loss='categorical_crossentropy',\n",
    "              metrics=['accuracy'])\n",
    "# 'sgd' stochastic gradient descent\n",
    "\n",
    "# Fit the model\n",
    "model.fit(predictors,target)"
   ]
  },
  {
   "cell_type": "markdown",
   "metadata": {},
   "source": [
    "This simple model in 1 epoch got as accuracy of 0.63%"
   ]
  },
  {
   "cell_type": "markdown",
   "metadata": {},
   "source": [
    "### Using Your Model\n",
    "You can use your model using:\n",
    "* Saving (with extension `.h5`)\n",
    "* Reloading\n",
    "* Make prediction\n",
    "* Verfiy its structure\n",
    "\n",
    "```python\n",
    "from keras.models import load_model\n",
    "\n",
    "model.save('model_file.h5')\n",
    "my_model = load_model('my_model.h5')\n",
    "predictions = my_model.predict(data_to_predict_with)\n",
    "probability_true = predictions[:,1]\n",
    "```\n"
   ]
  },
  {
   "cell_type": "markdown",
   "metadata": {},
   "source": [
    "--------------\n",
    "## Model Optimization\n",
    "\n",
    "If your model doesn't show much improvement try:\n",
    "* Changing the learning rate\n",
    "* Changing the activation function\n",
    "\n",
    "The next code will show you the effect of having 3 different learning rates from very high to very low."
   ]
  },
  {
   "cell_type": "code",
   "execution_count": 11,
   "metadata": {},
   "outputs": [
    {
     "name": "stdout",
     "output_type": "stream",
     "text": [
      "\n",
      "\n",
      "Testing model with learning rate: 0.000001\n",
      "\n",
      "Epoch 1/1\n",
      "891/891 [==============================] - 0s 349us/step - loss: 3.0684\n",
      "\n",
      "\n",
      "Testing model with learning rate: 0.010000\n",
      "\n",
      "Epoch 1/1\n",
      "891/891 [==============================] - 0s 383us/step - loss: 2.2568\n",
      "\n",
      "\n",
      "Testing model with learning rate: 1.000000\n",
      "\n",
      "Epoch 1/1\n",
      "891/891 [==============================] - 0s 374us/step - loss: 9.8524\n"
     ]
    }
   ],
   "source": [
    "# Import the SGD optimizer\n",
    "from keras.optimizers import SGD\n",
    "\n",
    "# Create list of learning rates: lr_to_test\n",
    "lr_to_test = [0.000001,0.01,1]\n",
    "\n",
    "# Loop over learning rates\n",
    "for lr in lr_to_test:\n",
    "    print('\\n\\nTesting model with learning rate: %f\\n'%lr )\n",
    "    \n",
    "    # Set up the model\n",
    "    model = Sequential()\n",
    "\n",
    "    # Add the first layer\n",
    "    model.add(Dense(32,activation='relu',input_shape=(n_cols,)))\n",
    "\n",
    "    # Add the output layer\n",
    "    model.add(Dense(2,activation='softmax'))\n",
    "\n",
    "    \n",
    "    # Create SGD optimizer with specified learning rate: my_optimizer\n",
    "    my_optimizer = SGD(lr=lr)\n",
    "    \n",
    "    # Compile the model\n",
    "    model.compile(optimizer=my_optimizer,loss='categorical_crossentropy')\n",
    "    \n",
    "    # Fit the model\n",
    "    model.fit(predictors,target)"
   ]
  },
  {
   "cell_type": "markdown",
   "metadata": {},
   "source": [
    "## Model Validation\n",
    "\n",
    "* You can tell keras to use some of your data as a validation set.\n",
    "    * **`model.fit(predictors,target,validation_split=0.3)`**\n",
    "* You can tell keras to stop epochs when the model is not imporving. This is called **Early Stopping**\n",
    "    * **`EarlyStopping(patience=2)`** stop after 2 epochs of no improvement on the loss function"
   ]
  },
  {
   "cell_type": "code",
   "execution_count": 12,
   "metadata": {},
   "outputs": [
    {
     "name": "stdout",
     "output_type": "stream",
     "text": [
      "Train on 623 samples, validate on 268 samples\n",
      "Epoch 1/30\n",
      "623/623 [==============================] - 1s 978us/step - loss: 0.9984 - acc: 0.6132 - val_loss: 1.4857 - val_acc: 0.6418\n",
      "Epoch 2/30\n",
      "623/623 [==============================] - 0s 72us/step - loss: 1.1025 - acc: 0.5618 - val_loss: 0.7832 - val_acc: 0.6866\n",
      "Epoch 3/30\n",
      "623/623 [==============================] - 0s 80us/step - loss: 0.7998 - acc: 0.6661 - val_loss: 0.5537 - val_acc: 0.7537\n",
      "Epoch 4/30\n",
      "623/623 [==============================] - 0s 70us/step - loss: 0.7193 - acc: 0.6629 - val_loss: 0.5814 - val_acc: 0.6642\n",
      "Epoch 5/30\n",
      "623/623 [==============================] - 0s 74us/step - loss: 0.6574 - acc: 0.6565 - val_loss: 0.5511 - val_acc: 0.6940\n",
      "Epoch 6/30\n",
      "623/623 [==============================] - 0s 82us/step - loss: 0.6059 - acc: 0.6693 - val_loss: 0.5801 - val_acc: 0.7164\n",
      "Epoch 7/30\n",
      "623/623 [==============================] - 0s 83us/step - loss: 0.6551 - acc: 0.6742 - val_loss: 0.5576 - val_acc: 0.7090\n"
     ]
    },
    {
     "data": {
      "text/plain": [
       "<keras.callbacks.History at 0x1d60b80c860>"
      ]
     },
     "execution_count": 12,
     "metadata": {},
     "output_type": "execute_result"
    }
   ],
   "source": [
    "# Import EarlyStopping\n",
    "from keras.callbacks import EarlyStopping\n",
    "\n",
    "# Save the number of columns in predictors: n_cols\n",
    "n_cols = predictors.shape[1]\n",
    "input_shape = (n_cols,)\n",
    "\n",
    "# Specify the model\n",
    "model = Sequential()\n",
    "model.add(Dense(100, activation='relu', input_shape = input_shape))\n",
    "model.add(Dense(100, activation='relu'))\n",
    "model.add(Dense(2, activation='softmax'))\n",
    "\n",
    "# Compile the model\n",
    "model.compile(optimizer='adam',loss='categorical_crossentropy',\n",
    "              metrics=['accuracy'])\n",
    "\n",
    "# Define early_stopping_monitor\n",
    "early_stopping_monitor = EarlyStopping(patience=2)\n",
    "\n",
    "# Fit the model\n",
    "model.fit(predictors,target,validation_split=0.3,epochs=30,\n",
    "          callbacks=[early_stopping_monitor])"
   ]
  },
  {
   "cell_type": "markdown",
   "metadata": {},
   "source": [
    "Optimizer stopped after 7 epochs\n",
    "\n",
    "### Model Summary"
   ]
  },
  {
   "cell_type": "code",
   "execution_count": 14,
   "metadata": {},
   "outputs": [
    {
     "name": "stdout",
     "output_type": "stream",
     "text": [
      "_________________________________________________________________\n",
      "Layer (type)                 Output Shape              Param #   \n",
      "=================================================================\n",
      "dense_12 (Dense)             (None, 100)               1100      \n",
      "_________________________________________________________________\n",
      "dense_13 (Dense)             (None, 100)               10100     \n",
      "_________________________________________________________________\n",
      "dense_14 (Dense)             (None, 2)                 202       \n",
      "=================================================================\n",
      "Total params: 11,402\n",
      "Trainable params: 11,402\n",
      "Non-trainable params: 0\n",
      "_________________________________________________________________\n"
     ]
    }
   ],
   "source": [
    "model.summary()"
   ]
  },
  {
   "cell_type": "markdown",
   "metadata": {},
   "source": [
    "### Plot Model Score vs Epochs"
   ]
  },
  {
   "cell_type": "code",
   "execution_count": 20,
   "metadata": {},
   "outputs": [
    {
     "name": "stdout",
     "output_type": "stream",
     "text": [
      "Train on 623 samples, validate on 268 samples\n",
      "Epoch 1/10\n",
      "623/623 [==============================] - 0s 61us/step - loss: 0.6200 - acc: 0.7175 - val_loss: 0.5058 - val_acc: 0.7836\n",
      "Epoch 2/10\n",
      "623/623 [==============================] - 0s 110us/step - loss: 0.5536 - acc: 0.7592 - val_loss: 0.6877 - val_acc: 0.7052\n",
      "Epoch 3/10\n",
      "623/623 [==============================] - 0s 122us/step - loss: 0.5105 - acc: 0.7640 - val_loss: 0.4337 - val_acc: 0.7948\n",
      "Epoch 4/10\n",
      "623/623 [==============================] - 0s 66us/step - loss: 0.4894 - acc: 0.7737 - val_loss: 0.4912 - val_acc: 0.7761\n",
      "Epoch 5/10\n",
      "623/623 [==============================] - 0s 74us/step - loss: 0.4986 - acc: 0.7849 - val_loss: 0.4177 - val_acc: 0.7948\n",
      "Epoch 6/10\n",
      "623/623 [==============================] - 0s 80us/step - loss: 0.4960 - acc: 0.7769 - val_loss: 0.4167 - val_acc: 0.7985\n",
      "Epoch 7/10\n",
      "623/623 [==============================] - 0s 82us/step - loss: 0.4856 - acc: 0.7913 - val_loss: 0.6335 - val_acc: 0.7575\n",
      "Epoch 8/10\n",
      "623/623 [==============================] - 0s 74us/step - loss: 0.5015 - acc: 0.7624 - val_loss: 0.4659 - val_acc: 0.7910\n",
      "Epoch 9/10\n",
      "623/623 [==============================] - 0s 72us/step - loss: 0.5245 - acc: 0.7673 - val_loss: 0.4726 - val_acc: 0.7910\n",
      "Epoch 10/10\n",
      "623/623 [==============================] - 0s 75us/step - loss: 0.5131 - acc: 0.7640 - val_loss: 0.4309 - val_acc: 0.7910\n"
     ]
    },
    {
     "data": {
      "text/plain": [
       "Text(0, 0.5, 'Validation score')"
      ]
     },
     "execution_count": 20,
     "metadata": {},
     "output_type": "execute_result"
    },
    {
     "data": {
      "image/png": "[encoded data removed]",
      "text/plain": [
       "<Figure size 432x288 with 1 Axes>"
      ]
     },
     "metadata": {
      "needs_background": "light"
     },
     "output_type": "display_data"
    }
   ],
   "source": [
    "model_tr = model.fit(predictors,target,validation_split=0.3,epochs=10)\n",
    "\n",
    "plt.plot(model_tr.history['val_loss'], 'r')\n",
    "plt.xlabel('Epochs')\n",
    "plt.ylabel('Validation score')"
   ]
  },
  {
   "cell_type": "markdown",
   "metadata": {},
   "source": [
    "## Model Capacity\n",
    "\n",
    "**Model Capacity** is model's ability to capture important features from the data.\n",
    "\n",
    "**Work flow for optimizing model capacity**:\n",
    "* Start with a small network\n",
    "* Get the validation score\n",
    "* Keep increasing capacity (more layers, nodes, .. etc) until validation score no longer improves\n",
    "\n",
    "\n",
    "\n",
    "\n",
    "\n",
    "------------------\n",
    "\n",
    "**Images Example**\n",
    "\n",
    "In the next example we will work with the MNIST dataset which consists of 28x28 grid images flattened to 784 values for each image. Each image shows a digit. We will create a deep learning model to predicts the digit"
   ]
  },
  {
   "cell_type": "code",
   "execution_count": 32,
   "metadata": {},
   "outputs": [
    {
     "data": {
      "text/html": [
       "<div>\n",
       "<style scoped>\n",
       "    .dataframe tbody tr th:only-of-type {\n",
       "        vertical-align: middle;\n",
       "    }\n",
       "\n",
       "    .dataframe tbody tr th {\n",
       "        vertical-align: top;\n",
       "    }\n",
       "\n",
       "    .dataframe thead th {\n",
       "        text-align: right;\n",
       "    }\n",
       "</style>\n",
       "<table border=\"1\" class=\"dataframe\">\n",
       "  <thead>\n",
       "    <tr style=\"text-align: right;\">\n",
       "      <th></th>\n",
       "      <th>0</th>\n",
       "      <th>1</th>\n",
       "      <th>2</th>\n",
       "      <th>3</th>\n",
       "      <th>4</th>\n",
       "      <th>5</th>\n",
       "      <th>6</th>\n",
       "      <th>7</th>\n",
       "      <th>8</th>\n",
       "      <th>9</th>\n",
       "      <th>...</th>\n",
       "      <th>775</th>\n",
       "      <th>776</th>\n",
       "      <th>777</th>\n",
       "      <th>778</th>\n",
       "      <th>779</th>\n",
       "      <th>780</th>\n",
       "      <th>781</th>\n",
       "      <th>782</th>\n",
       "      <th>783</th>\n",
       "      <th>784</th>\n",
       "    </tr>\n",
       "  </thead>\n",
       "  <tbody>\n",
       "    <tr>\n",
       "      <th>0</th>\n",
       "      <td>5</td>\n",
       "      <td>0</td>\n",
       "      <td>0.1</td>\n",
       "      <td>0.2</td>\n",
       "      <td>0.3</td>\n",
       "      <td>0.4</td>\n",
       "      <td>0.5</td>\n",
       "      <td>0.6</td>\n",
       "      <td>0.7</td>\n",
       "      <td>0.8</td>\n",
       "      <td>...</td>\n",
       "      <td>0.608</td>\n",
       "      <td>0.609</td>\n",
       "      <td>0.61</td>\n",
       "      <td>0.611</td>\n",
       "      <td>0.612</td>\n",
       "      <td>0.613</td>\n",
       "      <td>0.614</td>\n",
       "      <td>0.615</td>\n",
       "      <td>0.616</td>\n",
       "      <td>0.617</td>\n",
       "    </tr>\n",
       "    <tr>\n",
       "      <th>1</th>\n",
       "      <td>4</td>\n",
       "      <td>0</td>\n",
       "      <td>0.0</td>\n",
       "      <td>0.0</td>\n",
       "      <td>0.0</td>\n",
       "      <td>0.0</td>\n",
       "      <td>0.0</td>\n",
       "      <td>0.0</td>\n",
       "      <td>0.0</td>\n",
       "      <td>0.0</td>\n",
       "      <td>...</td>\n",
       "      <td>0.000</td>\n",
       "      <td>0.000</td>\n",
       "      <td>0.00</td>\n",
       "      <td>0.000</td>\n",
       "      <td>0.000</td>\n",
       "      <td>0.000</td>\n",
       "      <td>0.000</td>\n",
       "      <td>0.000</td>\n",
       "      <td>0.000</td>\n",
       "      <td>0.000</td>\n",
       "    </tr>\n",
       "    <tr>\n",
       "      <th>2</th>\n",
       "      <td>3</td>\n",
       "      <td>0</td>\n",
       "      <td>0.0</td>\n",
       "      <td>0.0</td>\n",
       "      <td>0.0</td>\n",
       "      <td>0.0</td>\n",
       "      <td>0.0</td>\n",
       "      <td>0.0</td>\n",
       "      <td>0.0</td>\n",
       "      <td>0.0</td>\n",
       "      <td>...</td>\n",
       "      <td>0.000</td>\n",
       "      <td>0.000</td>\n",
       "      <td>0.00</td>\n",
       "      <td>0.000</td>\n",
       "      <td>0.000</td>\n",
       "      <td>0.000</td>\n",
       "      <td>0.000</td>\n",
       "      <td>0.000</td>\n",
       "      <td>0.000</td>\n",
       "      <td>0.000</td>\n",
       "    </tr>\n",
       "    <tr>\n",
       "      <th>3</th>\n",
       "      <td>0</td>\n",
       "      <td>0</td>\n",
       "      <td>0.0</td>\n",
       "      <td>0.0</td>\n",
       "      <td>0.0</td>\n",
       "      <td>0.0</td>\n",
       "      <td>0.0</td>\n",
       "      <td>0.0</td>\n",
       "      <td>0.0</td>\n",
       "      <td>0.0</td>\n",
       "      <td>...</td>\n",
       "      <td>0.000</td>\n",
       "      <td>0.000</td>\n",
       "      <td>0.00</td>\n",
       "      <td>0.000</td>\n",
       "      <td>0.000</td>\n",
       "      <td>0.000</td>\n",
       "      <td>0.000</td>\n",
       "      <td>0.000</td>\n",
       "      <td>0.000</td>\n",
       "      <td>0.000</td>\n",
       "    </tr>\n",
       "    <tr>\n",
       "      <th>4</th>\n",
       "      <td>2</td>\n",
       "      <td>0</td>\n",
       "      <td>0.0</td>\n",
       "      <td>0.0</td>\n",
       "      <td>0.0</td>\n",
       "      <td>0.0</td>\n",
       "      <td>0.0</td>\n",
       "      <td>0.0</td>\n",
       "      <td>0.0</td>\n",
       "      <td>0.0</td>\n",
       "      <td>...</td>\n",
       "      <td>0.000</td>\n",
       "      <td>0.000</td>\n",
       "      <td>0.00</td>\n",
       "      <td>0.000</td>\n",
       "      <td>0.000</td>\n",
       "      <td>0.000</td>\n",
       "      <td>0.000</td>\n",
       "      <td>0.000</td>\n",
       "      <td>0.000</td>\n",
       "      <td>0.000</td>\n",
       "    </tr>\n",
       "  </tbody>\n",
       "</table>\n",
       "<p>5 rows × 785 columns</p>\n",
       "</div>"
      ],
      "text/plain": [
       "   0    1    2    3    4    5    6    7    8    9    ...    775    776   777  \\\n",
       "0    5    0  0.1  0.2  0.3  0.4  0.5  0.6  0.7  0.8  ...  0.608  0.609  0.61   \n",
       "1    4    0  0.0  0.0  0.0  0.0  0.0  0.0  0.0  0.0  ...  0.000  0.000  0.00   \n",
       "2    3    0  0.0  0.0  0.0  0.0  0.0  0.0  0.0  0.0  ...  0.000  0.000  0.00   \n",
       "3    0    0  0.0  0.0  0.0  0.0  0.0  0.0  0.0  0.0  ...  0.000  0.000  0.00   \n",
       "4    2    0  0.0  0.0  0.0  0.0  0.0  0.0  0.0  0.0  ...  0.000  0.000  0.00   \n",
       "\n",
       "     778    779    780    781    782    783    784  \n",
       "0  0.611  0.612  0.613  0.614  0.615  0.616  0.617  \n",
       "1  0.000  0.000  0.000  0.000  0.000  0.000  0.000  \n",
       "2  0.000  0.000  0.000  0.000  0.000  0.000  0.000  \n",
       "3  0.000  0.000  0.000  0.000  0.000  0.000  0.000  \n",
       "4  0.000  0.000  0.000  0.000  0.000  0.000  0.000  \n",
       "\n",
       "[5 rows x 785 columns]"
      ]
     },
     "execution_count": 32,
     "metadata": {},
     "output_type": "execute_result"
    }
   ],
   "source": [
    "df = pd.read_csv('datasets/MNIST.csv',header=None)\n",
    "df.head()"
   ]
  },
  {
   "cell_type": "code",
   "execution_count": 46,
   "metadata": {},
   "outputs": [
    {
     "data": {
      "text/plain": [
       "0    5\n",
       "1    4\n",
       "2    3\n",
       "3    0\n",
       "4    2\n",
       "Name: 0, dtype: int64"
      ]
     },
     "execution_count": 46,
     "metadata": {},
     "output_type": "execute_result"
    }
   ],
   "source": [
    "df[0].head()"
   ]
  },
  {
   "cell_type": "code",
   "execution_count": 55,
   "metadata": {},
   "outputs": [],
   "source": [
    "X = df.drop(0,axis=1).values\n",
    "y = to_categorical(df[0])"
   ]
  },
  {
   "cell_type": "code",
   "execution_count": 56,
   "metadata": {},
   "outputs": [
    {
     "data": {
      "text/plain": [
       "array([[0.   , 0.1  , 0.2  , ..., 0.615, 0.616, 0.617],\n",
       "       [0.   , 0.   , 0.   , ..., 0.   , 0.   , 0.   ],\n",
       "       [0.   , 0.   , 0.   , ..., 0.   , 0.   , 0.   ],\n",
       "       ...,\n",
       "       [0.   , 0.   , 0.   , ..., 0.   , 0.   , 0.   ],\n",
       "       [0.   , 0.   , 0.   , ..., 0.   , 0.   , 0.   ],\n",
       "       [0.   , 0.   , 0.   , ...,   nan,   nan,   nan]])"
      ]
     },
     "execution_count": 56,
     "metadata": {},
     "output_type": "execute_result"
    }
   ],
   "source": [
    "X"
   ]
  },
  {
   "cell_type": "code",
   "execution_count": 57,
   "metadata": {},
   "outputs": [
    {
     "data": {
      "text/plain": [
       "array([[0., 0., 0., ..., 0., 0., 0.],\n",
       "       [0., 0., 0., ..., 0., 0., 0.],\n",
       "       [0., 0., 0., ..., 0., 0., 0.],\n",
       "       ...,\n",
       "       [0., 0., 0., ..., 1., 0., 0.],\n",
       "       [0., 0., 0., ..., 0., 0., 0.],\n",
       "       [0., 1., 0., ..., 0., 0., 0.]], dtype=float32)"
      ]
     },
     "execution_count": 57,
     "metadata": {},
     "output_type": "execute_result"
    }
   ],
   "source": [
    "y"
   ]
  },
  {
   "cell_type": "code",
   "execution_count": 58,
   "metadata": {},
   "outputs": [
    {
     "name": "stdout",
     "output_type": "stream",
     "text": [
      "Train on 1087 samples, validate on 466 samples\n",
      "Epoch 1/30\n",
      "1087/1087 [==============================] - 1s 704us/step - loss: 12.8154 - acc: 0.1803 - val_loss: nan - val_acc: 0.2897\n",
      "Epoch 2/30\n",
      "1087/1087 [==============================] - 0s 104us/step - loss: 11.0707 - acc: 0.3027 - val_loss: nan - val_acc: 0.3476\n",
      "Epoch 3/30\n",
      "1087/1087 [==============================] - 0s 105us/step - loss: 10.1233 - acc: 0.3643 - val_loss: nan - val_acc: 0.4227\n",
      "Epoch 4/30\n",
      "1087/1087 [==============================] - 0s 100us/step - loss: 9.1220 - acc: 0.4241 - val_loss: nan - val_acc: 0.4979\n",
      "Epoch 5/30\n",
      "1087/1087 [==============================] - 0s 100us/step - loss: 8.5049 - acc: 0.4664 - val_loss: nan - val_acc: 0.4914\n",
      "Epoch 6/30\n",
      "1087/1087 [==============================] - 0s 117us/step - loss: 8.5513 - acc: 0.4637 - val_loss: nan - val_acc: 0.4742\n",
      "Epoch 7/30\n",
      "1087/1087 [==============================] - 0s 117us/step - loss: 8.0405 - acc: 0.4922 - val_loss: nan - val_acc: 0.5107\n",
      "Epoch 8/30\n",
      "1087/1087 [==============================] - 0s 101us/step - loss: 7.8597 - acc: 0.5115 - val_loss: nan - val_acc: 0.4764\n",
      "Epoch 9/30\n",
      "1087/1087 [==============================] - 0s 103us/step - loss: 7.8977 - acc: 0.5051 - val_loss: nan - val_acc: 0.5043\n",
      "Epoch 10/30\n",
      "1087/1087 [==============================] - 0s 96us/step - loss: 7.6827 - acc: 0.5170 - val_loss: nan - val_acc: 0.5086\n",
      "Epoch 11/30\n",
      "1087/1087 [==============================] - 0s 104us/step - loss: 7.6580 - acc: 0.5198 - val_loss: nan - val_acc: 0.5107\n",
      "Epoch 12/30\n",
      "1087/1087 [==============================] - 0s 104us/step - loss: 7.6394 - acc: 0.5207 - val_loss: nan - val_acc: 0.4979\n",
      "Epoch 13/30\n",
      "1087/1087 [==============================] - 0s 100us/step - loss: 7.4237 - acc: 0.5354 - val_loss: nan - val_acc: 0.5000\n",
      "Epoch 14/30\n",
      "1087/1087 [==============================] - 0s 106us/step - loss: 7.3733 - acc: 0.5391 - val_loss: nan - val_acc: 0.5129\n",
      "Epoch 15/30\n",
      "1087/1087 [==============================] - 0s 106us/step - loss: 7.2295 - acc: 0.5492 - val_loss: nan - val_acc: 0.5193\n",
      "Epoch 16/30\n",
      "1087/1087 [==============================] - 0s 99us/step - loss: 7.5584 - acc: 0.5271 - val_loss: nan - val_acc: 0.5021\n",
      "Epoch 17/30\n",
      "1087/1087 [==============================] - 0s 104us/step - loss: 8.3198 - acc: 0.4793 - val_loss: nan - val_acc: 0.4850\n",
      "Epoch 18/30\n",
      "1087/1087 [==============================] - 0s 107us/step - loss: 6.6516 - acc: 0.5768 - val_loss: nan - val_acc: 0.5708\n",
      "Epoch 19/30\n",
      "1087/1087 [==============================] - 0s 116us/step - loss: 6.6133 - acc: 0.5860 - val_loss: nan - val_acc: 0.5365\n",
      "Epoch 20/30\n",
      "1087/1087 [==============================] - 0s 109us/step - loss: 6.4268 - acc: 0.5943 - val_loss: nan - val_acc: 0.5601\n",
      "Epoch 21/30\n",
      "1087/1087 [==============================] - 0s 106us/step - loss: 6.0327 - acc: 0.6173 - val_loss: nan - val_acc: 0.6545\n",
      "Epoch 22/30\n",
      "1087/1087 [==============================] - 0s 105us/step - loss: 4.7124 - acc: 0.6992 - val_loss: nan - val_acc: 0.6996\n",
      "Epoch 23/30\n",
      "1087/1087 [==============================] - 0s 108us/step - loss: 5.1461 - acc: 0.6734 - val_loss: nan - val_acc: 0.6609\n",
      "Epoch 24/30\n",
      "1087/1087 [==============================] - 0s 121us/step - loss: 4.8697 - acc: 0.6927 - val_loss: nan - val_acc: 0.6996\n",
      "Epoch 25/30\n",
      "1087/1087 [==============================] - 0s 106us/step - loss: 4.5912 - acc: 0.7111 - val_loss: nan - val_acc: 0.7082\n",
      "Epoch 26/30\n",
      "1087/1087 [==============================] - 0s 114us/step - loss: 4.6887 - acc: 0.7047 - val_loss: nan - val_acc: 0.7146\n",
      "Epoch 27/30\n",
      "1087/1087 [==============================] - 0s 105us/step - loss: 4.5835 - acc: 0.7130 - val_loss: nan - val_acc: 0.6953\n",
      "Epoch 28/30\n",
      "1087/1087 [==============================] - 0s 99us/step - loss: 4.5915 - acc: 0.7093 - val_loss: nan - val_acc: 0.7124\n",
      "Epoch 29/30\n",
      "1087/1087 [==============================] - 0s 106us/step - loss: 4.4283 - acc: 0.7222 - val_loss: nan - val_acc: 0.6824\n",
      "Epoch 30/30\n",
      "1087/1087 [==============================] - 0s 106us/step - loss: 4.3492 - acc: 0.7259 - val_loss: nan - val_acc: 0.7318\n"
     ]
    },
    {
     "data": {
      "text/plain": [
       "<keras.callbacks.History at 0x1d6170f1eb8>"
      ]
     },
     "execution_count": 58,
     "metadata": {},
     "output_type": "execute_result"
    }
   ],
   "source": [
    "# Create the model: model\n",
    "model = Sequential()\n",
    "\n",
    "# Add the first hidden layer\n",
    "model.add(Dense(50, activation='relu', input_shape = (784,)))\n",
    "\n",
    "\n",
    "# Add the second hidden layer\n",
    "model.add(Dense(50, activation='relu'))\n",
    "\n",
    "# Add the output layer\n",
    "model.add(Dense(10, activation='softmax'))\n",
    "\n",
    "# Compile the model\n",
    "model.compile(optimizer='adam',loss='categorical_crossentropy',\n",
    "              metrics=['accuracy'])\n",
    "\n",
    "# Fit the model\n",
    "model.fit(X,y,validation_split=0.3,epochs=30)"
   ]
  },
  {
   "cell_type": "code",
   "execution_count": null,
   "metadata": {},
   "outputs": [],
   "source": []
  }
 ],
 "metadata": {
  "kernelspec": {
   "display_name": "Python 3",
   "language": "python",
   "name": "python3"
  },
  "language_info": {
   "codemirror_mode": {
    "name": "ipython",
    "version": 3
   },
   "file_extension": ".py",
   "mimetype": "text/x-python",
   "name": "python",
   "nbconvert_exporter": "python",
   "pygments_lexer": "ipython3",
   "version": "3.7.1"
  },
  "toc": {
   "base_numbering": 1,
   "nav_menu": {
    "height": "76.9676px",
    "width": "159.988px"
   },
   "number_sections": false,
   "sideBar": true,
   "skip_h1_title": false,
   "title_cell": "Table of Contents",
   "title_sidebar": "Contents",
   "toc_cell": true,
   "toc_position": {
    "height": "calc(100% - 180px)",
    "left": "10px",
    "top": "150px",
    "width": "164.988px"
   },
   "toc_section_display": true,
   "toc_window_display": true
  },
  "varInspector": {
   "cols": {
    "lenName": 16,
    "lenType": 16,
    "lenVar": 40
   },
   "kernels_config": {
    "python": {
     "delete_cmd_postfix": "",
     "delete_cmd_prefix": "del ",
     "library": "var_list.py",
     "varRefreshCmd": "print(var_dic_list())"
    },
    "r": {
     "delete_cmd_postfix": ") ",
     "delete_cmd_prefix": "rm(",
     "library": "var_list.r",
     "varRefreshCmd": "cat(var_dic_list()) "
    }
   },
   "types_to_exclude": [
    "module",
    "function",
    "builtin_function_or_method",
    "instance",
    "_Feature"
   ],
   "window_display": true
  }
 },
 "nbformat": 4,
 "nbformat_minor": 4
}
